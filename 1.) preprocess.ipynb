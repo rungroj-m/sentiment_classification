{
 "cells": [
  {
   "cell_type": "code",
   "execution_count": 3,
   "metadata": {},
   "outputs": [
    {
     "name": "stdout",
     "output_type": "stream",
     "text": [
      "do not\n"
     ]
    }
   ],
   "source": [
    "import glob\n",
    "import csv\n",
    "import json\n",
    "import re\n",
    "from urllib.request import urlopen\n",
    "import csv\n",
    "import spacy\n",
    "summary = dict()\n",
    "\n",
    "nlp = spacy.load('en_core_web_md')\n",
    "\n",
    "def regex(comment):\n",
    "    p = re.sub(r'[^A-Za-z0-9]+',' ',comment, flags=re.IGNORECASE)\n",
    "    p = re.sub(r'\\s+',' ',p)\n",
    "    return p\n",
    "\n",
    "def readfile():\n",
    "    summary_id = 0\n",
    "    for filename in glob.iglob('dataset/raw_dataset/*.csv', recursive=True):\n",
    "        with open(filename) as csvfile:\n",
    "            reader = csv.DictReader(csvfile)\n",
    "            print(filename,reader.fieldnames)\n",
    "            for row in reader:\n",
    "                summary[summary_id] = dict()\n",
    "                summary[summary_id]['project'] = filename.split('/')[2].split('.')[0]\n",
    "                if 'text' in reader.fieldnames:\n",
    "                    summary[summary_id]['text'] = row['text']\n",
    "                elif 'sentence' in reader.fieldnames:\n",
    "                    summary[summary_id]['text'] = row['sentence']\n",
    "                summary[summary_id]['oracle'] = row['oracle']\n",
    "                summary_id += 1\n",
    "\n",
    "def stop_word_removed(comment):\n",
    "    non_stop_words = []\n",
    "    doc = nlp(comment)\n",
    "    for token in doc:\n",
    "        if token.is_stop:\n",
    "            continue\n",
    "        non_stop_words.append(token.text.lower())\n",
    "    return ' '.join(non_stop_words)\n",
    "\n",
    "def writefile():\n",
    "    with open('dataset/dataset.csv', 'w', newline='') as csvfile:\n",
    "        fieldnames = ['key','project','regular_text','text','oracle']\n",
    "        writer = csv.DictWriter(csvfile, fieldnames=fieldnames)\n",
    "        writer.writeheader()\n",
    "        for summary_id in summary:\n",
    "            writer.writerow({\n",
    "                'key': summary_id, \n",
    "                'project': summary[summary_id]['project'].lower(),\n",
    "                'regular_text': regex(summary[summary_id]['text']),\n",
    "                'text': regex(stop_word_removed(summary[summary_id]['text'])), \n",
    "                'oracle': summary[summary_id]['oracle']\n",
    "            })\n",
    "readfile()\n",
    "writefile()"
   ]
  },
  {
   "cell_type": "code",
   "execution_count": null,
   "metadata": {},
   "outputs": [],
   "source": []
  }
 ],
 "metadata": {
  "kernelspec": {
   "display_name": "Python 3",
   "language": "python",
   "name": "python3"
  },
  "language_info": {
   "codemirror_mode": {
    "name": "ipython",
    "version": 3
   },
   "file_extension": ".py",
   "mimetype": "text/x-python",
   "name": "python",
   "nbconvert_exporter": "python",
   "pygments_lexer": "ipython3",
   "version": "3.7.1"
  }
 },
 "nbformat": 4,
 "nbformat_minor": 2
}
