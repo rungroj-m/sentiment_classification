{
 "cells": [
  {
   "cell_type": "code",
   "execution_count": 1,
   "metadata": {},
   "outputs": [
    {
     "name": "stdout",
     "output_type": "stream",
     "text": [
      "2767\n"
     ]
    }
   ],
   "source": [
    "# prepare file for ngweight\n",
    "import csv\n",
    "texts = list()\n",
    "project_names = [\"jira\",\"stackoverflow\",\"appreviews\"]\n",
    "def read_csv():\n",
    "    with open('dataset/dataset.csv', 'r',encoding='latin1') as csvfile:\n",
    "        reader = csv.DictReader(csvfile)\n",
    "        for row in reader:\n",
    "            if row['project'] not in texts:\n",
    "                texts[row['project']] = list()\n",
    "                project_names.append(row['project'])\n",
    "            texts[row['project']].append(row['text'])\n",
    "            \n",
    "def write_csv():\n",
    "    for project_name in project_names:\n",
    "        with open('dataset/'+project_name+'_n_gram_preparation','w') as file:\n",
    "            for row in texts[project_name]:\n",
    "                file.write(chr(0x02)+chr(0x03)+\"\\n\")\n",
    "                file.write(row+\"\\n\")\n",
    "\n",
    "read_csv()\n",
    "print(len(texts))\n",
    "write_csv()\n"
   ]
  },
  {
   "cell_type": "code",
   "execution_count": 2,
   "metadata": {},
   "outputs": [
    {
     "data": {
      "text/plain": [
       "0"
      ]
     },
     "execution_count": 2,
     "metadata": {},
     "output_type": "execute_result"
    }
   ],
   "source": [
    "from subprocess import call\n",
    "# call(\"../ngweight-master/waf\",shell=True)\n",
    "for project_name in project_names:\n",
    "    call(\"../ngweight-master/bin/default/ngweight -w -s 0 < dataset/\"+project_name+\"_n_gram_preparation > dataset/\"+project_name+\"_n_gram\",shell=True)"
   ]
  },
  {
   "cell_type": "code",
   "execution_count": 4,
   "metadata": {},
   "outputs": [],
   "source": [
    "import csv\n",
    "import sys\n",
    "\n",
    "for project_name in project_names:\n",
    "    n_gram_filter = list()\n",
    "    with open(\"dataset/\"+project_name+\"_n_gram\") as csvfile:\n",
    "        reader = csv.reader(csvfile, delimiter='\\t', quotechar='|')\n",
    "        for row in reader:\n",
    "            if int(row[2]) <= 1:\n",
    "                continue\n",
    "            n_gram_filter.append(row)\n",
    "\n",
    "    with open(\"dataset/\"+project_name+\"_n_gram_filter\",'w') as csvfile:\n",
    "        writer = csv.writer(csvfile,delimiter='\\t', quotechar='|')\n",
    "        writer.writerows(n_gram_filter)"
   ]
  },
  {
   "cell_type": "code",
   "execution_count": 17,
   "metadata": {},
   "outputs": [],
   "source": [
    "## check score for each n_gram features\n",
    "## score = weight1 * int(row[2])\n",
    "## weight2 = log(|D| * df/sdf^2)\n",
    "import math\n",
    "\n",
    "total_document = {\"stackoverflow\":0,\"jira\":0,\"appreviews\":0}\n",
    "\n",
    "with open(\"dataset/dataset.csv\", 'r',encoding='latin1') as csvfile:\n",
    "    reader = csv.DictReader(csvfile)\n",
    "    for row in reader:\n",
    "            total_document[row['project']] += 1\n",
    "\n",
    "with open('n_gram_filter_summary.csv', 'w', newline='') as writecsvfile:\n",
    "    fieldnames = ['project_name','|D|','len','gtf','df','sdf','term','weight1','weight1 * gtf','weight2']\n",
    "    writer = csv.DictWriter(writecsvfile, fieldnames=fieldnames)\n",
    "    writer.writeheader()\n",
    "    for project_name in \"appreviews\",\"jira\",\"stackoverflow\":\n",
    "        with open(\"dataset/\"+project_name+\"_n_gram_filter\") as csvfile:\n",
    "            reader = csv.reader(csvfile, delimiter='\\t', quotechar='|')\n",
    "            for row in reader:\n",
    "                words = row[5].strip()\n",
    "                term = tuple(row[5].strip().split(' '))\n",
    "                weight1 = math.log10(total_document[project_name] / int(row[4]))\n",
    "                score =  weight1 * int(row[2])\n",
    "                weight2 = math.log10(total_document[project_name] * int(row[3]) / (int(row[4]) * int(row[4])) )\n",
    "                writer.writerow({\n",
    "                    'project_name': project_name,\n",
    "                    '|D|': total_document[project_name],\n",
    "                    'len': row[1], \n",
    "                    'gtf': row[2],\n",
    "                    'df': row[3],\n",
    "                    'sdf': row[4], \n",
    "                    'term': row[5],\n",
    "                    'weight1': weight1,\n",
    "                    'weight1 * gtf': score,\n",
    "                    'weight2': weight2,\n",
    "                })"
   ]
  },
  {
   "cell_type": "code",
   "execution_count": 6,
   "metadata": {},
   "outputs": [
    {
     "name": "stdout",
     "output_type": "stream",
     "text": [
      "jira 37810\n",
      "stackoverflow 82062\n",
      "appreviews 62488\n"
     ]
    }
   ],
   "source": [
    "## count number of n_gram if not use ngweight\n",
    "\n",
    "import csv\n",
    "\n",
    "from sklearn.feature_extraction.text import CountVectorizer\n",
    "corpus = {\"jira\":[],\"stackoverflow\":[],\"appreviews\":[]}\n",
    "\n",
    "with open(\"dataset/dataset.csv\", 'r',encoding='latin1') as csvfile:\n",
    "    reader = csv.DictReader(csvfile)\n",
    "    for row in reader:\n",
    "        corpus[row['project']].append(row['text'])\n",
    "\n",
    "for i in corpus:\n",
    "    vectorizer = CountVectorizer(ngram_range=(1, 10))\n",
    "    X = vectorizer.fit_transform(corpus[i])\n",
    "    print(i,len(vectorizer.get_feature_names()))"
   ]
  },
  {
   "cell_type": "code",
   "execution_count": null,
   "metadata": {},
   "outputs": [],
   "source": []
  }
 ],
 "metadata": {
  "kernelspec": {
   "display_name": "Python 3",
   "language": "python",
   "name": "python3"
  },
  "language_info": {
   "codemirror_mode": {
    "name": "ipython",
    "version": 3
   },
   "file_extension": ".py",
   "mimetype": "text/x-python",
   "name": "python",
   "nbconvert_exporter": "python",
   "pygments_lexer": "ipython3",
   "version": "3.7.1"
  }
 },
 "nbformat": 4,
 "nbformat_minor": 2
}
