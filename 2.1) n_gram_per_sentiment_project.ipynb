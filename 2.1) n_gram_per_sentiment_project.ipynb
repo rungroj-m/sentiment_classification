{
 "cells": [
  {
   "cell_type": "markdown",
   "metadata": {},
   "source": [
    "### Create n_gram for each project and split for each sentiment  ( use for finding important features for each sentiment&project )"
   ]
  },
  {
   "cell_type": "code",
   "execution_count": 1,
   "metadata": {},
   "outputs": [
    {
     "name": "stdout",
     "output_type": "stream",
     "text": [
      "3\n"
     ]
    }
   ],
   "source": [
    "# prepare file for ngweight\n",
    "import csv\n",
    "import os\n",
    "texts = dict()\n",
    "project_names = list()\n",
    "def read_csv():\n",
    "    with open('dataset/dataset.csv', 'r',encoding='latin1') as csvfile:\n",
    "        reader = csv.DictReader(csvfile)\n",
    "        for row in reader:\n",
    "            if row['project'] not in texts:\n",
    "                texts[row['project']] = dict()\n",
    "                project_names.append(row['project'])\n",
    "            if row['oracle'] not in texts[row['project']]:\n",
    "                texts[row['project']][row['oracle']] = list()\n",
    "            texts[row['project']][row['oracle']].append(row['text'])\n",
    "            \n",
    "def write_csv():\n",
    "    if not os.path.exists('dataset/importance_features/'):\n",
    "        os.makedirs('dataset/importance_features/')\n",
    "    for project_name in project_names:\n",
    "        for label in texts[project_name]:\n",
    "            with open('dataset/importance_features/'+project_name+'_'+label+'_n_gram_prep','w') as file:\n",
    "                for row in texts[project_name][label]:\n",
    "                    file.write(chr(0x02)+chr(0x03)+\"\\n\")\n",
    "                    file.write(row+\"\\n\")\n",
    "read_csv()\n",
    "print(len(texts))\n",
    "write_csv()\n"
   ]
  },
  {
   "cell_type": "code",
   "execution_count": 2,
   "metadata": {},
   "outputs": [],
   "source": [
    "from subprocess import call\n",
    "# call(\"../ngweight-master/waf\",shell=True)\n",
    "for project_name in project_names:\n",
    "    for label in texts[project_name]:\n",
    "        call(\"../ngweight-master/bin/default/ngweight -w -s 0 < dataset/importance_features/\"+project_name+'_'+label+\"_n_gram_prep > dataset/importance_features/\"+project_name+'_'+label+\"_n_gram\",shell=True)\n",
    "    "
   ]
  },
  {
   "cell_type": "code",
   "execution_count": 3,
   "metadata": {},
   "outputs": [],
   "source": [
    "import csv\n",
    "import sys\n",
    "\n",
    "for project_name in project_names:\n",
    "    for label in texts[project_name]:\n",
    "        n_gram_filter = list()\n",
    "        with open(\"dataset/importance_features/\"+project_name+'_'+label+\"_n_gram\") as csvfile:\n",
    "            reader = csv.reader(csvfile, delimiter='\\t', quotechar='|')\n",
    "            for row in reader:\n",
    "                if int(row[2]) <= 1:\n",
    "                    continue\n",
    "                n_gram_filter.append(row)\n",
    "\n",
    "        with open(\"dataset/importance_features/\"+project_name+'_'+label+\"_n_gram_filter\",'w') as csvfile:\n",
    "            writer = csv.writer(csvfile,delimiter='\\t', quotechar='|')\n",
    "            writer.writerows(n_gram_filter)\n"
   ]
  },
  {
   "cell_type": "code",
   "execution_count": null,
   "metadata": {},
   "outputs": [],
   "source": []
  }
 ],
 "metadata": {
  "kernelspec": {
   "display_name": "Python 3",
   "language": "python",
   "name": "python3"
  },
  "language_info": {
   "codemirror_mode": {
    "name": "ipython",
    "version": 3
   },
   "file_extension": ".py",
   "mimetype": "text/x-python",
   "name": "python",
   "nbconvert_exporter": "python",
   "pygments_lexer": "ipython3",
   "version": "3.7.1"
  }
 },
 "nbformat": 4,
 "nbformat_minor": 2
}
